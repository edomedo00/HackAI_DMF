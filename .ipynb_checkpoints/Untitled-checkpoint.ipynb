{
 "cells": [
  {
   "cell_type": "code",
   "execution_count": 9,
   "id": "bca6a301",
   "metadata": {},
   "outputs": [],
   "source": [
    "import sys\n",
    "sys.path.append(r'C:\\Users\\edram\\Documents\\PROGRAMACION\\Hack AI\\AlphaPose')"
   ]
  },
  {
   "cell_type": "code",
   "execution_count": 2,
   "id": "93510540",
   "metadata": {},
   "outputs": [
    {
     "ename": "ModuleNotFoundError",
     "evalue": "No module named 'Alphapose'",
     "output_type": "error",
     "traceback": [
      "\u001b[1;31m---------------------------------------------------------------------------\u001b[0m",
      "\u001b[1;31mModuleNotFoundError\u001b[0m                       Traceback (most recent call last)",
      "Cell \u001b[1;32mIn[2], line 4\u001b[0m\n\u001b[0;32m      1\u001b[0m \u001b[38;5;28;01mimport\u001b[39;00m \u001b[38;5;21;01mcv2\u001b[39;00m\n\u001b[1;32m----> 4\u001b[0m \u001b[38;5;28;01mfrom\u001b[39;00m \u001b[38;5;21;01mAlphapose\u001b[39;00m\u001b[38;5;21;01m.\u001b[39;00m\u001b[38;5;21;01mmodels\u001b[39;00m \u001b[38;5;28;01mimport\u001b[39;00m fastpose_duc\n\u001b[0;32m      6\u001b[0m \u001b[38;5;28;01mfrom\u001b[39;00m \u001b[38;5;21;01malphapose\u001b[39;00m\u001b[38;5;21;01m.\u001b[39;00m\u001b[38;5;21;01mutils\u001b[39;00m\u001b[38;5;21;01m.\u001b[39;00m\u001b[38;5;21;01mconfig\u001b[39;00m \u001b[38;5;28;01mimport\u001b[39;00m update_config\n\u001b[0;32m      8\u001b[0m \u001b[38;5;28;01mfrom\u001b[39;00m \u001b[38;5;21;01malphapose\u001b[39;00m\u001b[38;5;21;01m.\u001b[39;00m\u001b[38;5;21;01mutils\u001b[39;00m\u001b[38;5;21;01m.\u001b[39;00m\u001b[38;5;21;01mtransforms\u001b[39;00m \u001b[38;5;28;01mimport\u001b[39;00m get_func_heatmap_to_coord\n",
      "\u001b[1;31mModuleNotFoundError\u001b[0m: No module named 'Alphapose'"
     ]
    }
   ],
   "source": [
    "import cv2\n",
    "\n",
    "\n",
    "from alphapose.models import fastpose_duc\n",
    "\n",
    "from alphapose.utils.config import update_config\n",
    "\n",
    "from alphapose.utils.transforms import get_func_heatmap_to_coord\n",
    "\n",
    "# Load configuration file\n",
    "\n",
    "cfg = update_config('./configs/coco/resnet/256x192_res50_lr1e-3_1x.yaml')\n",
    "\n",
    "# Load AlphaPose model\n",
    "\n",
    "model = builder.build_sppe(cfg.MODEL, preset_cfg=cfg.DATA_PRESET)\n",
    "\n",
    "# Load pre-trained weights\n",
    "\n",
    "model.load_state_dict(torch.load(cfg.TEST.MODEL_FILE), strict=False)\n",
    "\n",
    "model.eval()\n",
    "\n",
    "# Image preprocessing\n",
    "\n",
    "image = cv2.imread('Isaac_demo_1.jpg')\n",
    "\n",
    "image = model.preprocess(image)\n",
    "\n",
    "image = torch.from_numpy(image).unsqueeze(0)\n",
    "\n",
    "# Run inference\n",
    "\n",
    "with torch.no_grad():\n",
    "\n",
    "    output = model(image)\n",
    "\n",
    "# Post-process the output\n",
    "\n",
    "coords, _ = get_func_heatmap_to_coord(cfg)  # Obtain coordinates from heatmaps\n",
    "\n",
    "pred = coords(output, [image.size(3), image.size(2)])  # Get predicted joint coordinates\n",
    "\n",
    "print(pred)  # Print the predicted joint coordinates"
   ]
  },
  {
   "cell_type": "code",
   "execution_count": 11,
   "id": "7ab75fc0",
   "metadata": {},
   "outputs": [
    {
     "name": "stdout",
     "output_type": "stream",
     "text": [
      "['C:\\\\Users\\\\edram\\\\Documents\\\\PROGRAMACION\\\\Hack AI', 'C:\\\\Users\\\\edram\\\\anaconda3\\\\python311.zip', 'C:\\\\Users\\\\edram\\\\anaconda3\\\\DLLs', 'C:\\\\Users\\\\edram\\\\anaconda3\\\\Lib', 'C:\\\\Users\\\\edram\\\\anaconda3', '', 'C:\\\\Users\\\\edram\\\\anaconda3\\\\Lib\\\\site-packages', 'C:\\\\Users\\\\edram\\\\anaconda3\\\\Lib\\\\site-packages\\\\win32', 'C:\\\\Users\\\\edram\\\\anaconda3\\\\Lib\\\\site-packages\\\\win32\\\\lib', 'C:\\\\Users\\\\edram\\\\anaconda3\\\\Lib\\\\site-packages\\\\Pythonwin', 'C:\\\\Users\\\\edram\\\\Documents\\\\PROGRAMACION\\\\Hack AI\\\\AlphaPose', 'C:\\\\Users\\\\edram\\\\Documents\\\\PROGRAMACION\\\\Hack AI\\\\AlphaPose', 'C:\\\\Users\\\\edram\\\\Documents\\\\PROGRAMACION\\\\Hack AI\\\\AlphaPose']\n"
     ]
    }
   ],
   "source": [
    "import sys\n",
    "print(sys.path)"
   ]
  },
  {
   "cell_type": "code",
   "execution_count": null,
   "id": "d3ef1e6e",
   "metadata": {},
   "outputs": [],
   "source": []
  }
 ],
 "metadata": {
  "kernelspec": {
   "display_name": "Python 3 (ipykernel)",
   "language": "python",
   "name": "python3"
  },
  "language_info": {
   "codemirror_mode": {
    "name": "ipython",
    "version": 3
   },
   "file_extension": ".py",
   "mimetype": "text/x-python",
   "name": "python",
   "nbconvert_exporter": "python",
   "pygments_lexer": "ipython3",
   "version": "3.11.4"
  }
 },
 "nbformat": 4,
 "nbformat_minor": 5
}
